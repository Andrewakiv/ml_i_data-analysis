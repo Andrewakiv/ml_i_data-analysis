{
 "cells": [
  {
   "cell_type": "code",
   "execution_count": 6,
   "metadata": {},
   "outputs": [],
   "source": [
    "import pandas as pd\n",
    "import matplotlib.pyplot as plt\n",
    "\n",
    "# Example data for defects distribution and severity levels\n",
    "defects_data = {\n",
    "    \"Type\": [\"GUI\", \"Functional\"],\n",
    "    \"Count\": [4, 2]\n",
    "}\n",
    "\n",
    "severity_data = {\n",
    "    \"Severity Level\": [\"Модуль реєстрації користувачів\", \"Модуль навігації\", \"Модуль взаємодії з профілями\"],\n",
    "    \"Count\": [2, 2, 1]\n",
    "}\n",
    "\n",
    "# Convert data into DataFrame\n",
    "defects_df = pd.DataFrame(defects_data)\n",
    "severity_df = pd.DataFrame(severity_data)\n",
    "\n",
    "# Plotting defects distribution\n",
    "plt.figure(figsize=(8, 5))\n",
    "plt.pie(defects_df[\"Count\"], labels=defects_df[\"Type\"], autopct='%1.1f%%', startangle=140)\n",
    "plt.title(\"Distribution of Defects by Type\")\n",
    "plt.savefig(\"defects_distribution.png\")\n",
    "plt.close()\n",
    "\n",
    "# Plotting severity levels\n",
    "plt.figure(figsize=(8, 5))\n",
    "plt.bar(severity_df[\"Severity Level\"], severity_df[\"Count\"], color='skyblue')\n",
    "plt.title(\"Defects by Severity Level\")\n",
    "plt.xlabel(\"Severity Level\")\n",
    "plt.ylabel(\"Number of Defects\")\n",
    "plt.savefig(\"severity_levels.png\")\n",
    "plt.close()"
   ]
  }
 ],
 "metadata": {
  "kernelspec": {
   "display_name": "Python 3 (ipykernel)",
   "language": "python",
   "name": "python3"
  },
  "language_info": {
   "codemirror_mode": {
    "name": "ipython",
    "version": 3
   },
   "file_extension": ".py",
   "mimetype": "text/x-python",
   "name": "python",
   "nbconvert_exporter": "python",
   "pygments_lexer": "ipython3",
   "version": "3.11.4"
  }
 },
 "nbformat": 4,
 "nbformat_minor": 2
}
