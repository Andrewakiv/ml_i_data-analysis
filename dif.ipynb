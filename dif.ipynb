{
 "cells": [
  {
   "cell_type": "code",
   "execution_count": 104,
   "metadata": {},
   "outputs": [
    {
     "name": "stderr",
     "output_type": "stream",
     "text": [
      "C:\\Users\\911\\anaconda3\\envs\\myenv\\Lib\\site-packages\\sklearn\\cluster\\_kmeans.py:1429: UserWarning: KMeans is known to have a memory leak on Windows with MKL, when there are less chunks than available threads. You can avoid it by setting the environment variable OMP_NUM_THREADS=1.\n",
      "  warnings.warn(\n"
     ]
    },
    {
     "data": {
      "text/plain": [
       "(0.40853986069765225,\n",
       " 1.0,\n",
       " 1.0,\n",
       " 0.4009908863728576,\n",
       " 1.0,\n",
       " 1.0,\n",
       " 0.2651327291027883,\n",
       " 1.0,\n",
       " 1.0)"
      ]
     },
     "execution_count": 104,
     "metadata": {},
     "output_type": "execute_result"
    }
   ],
   "source": [
    "# Імпорт необхідних бібліотек\n",
    "from sklearn.metrics import silhouette_score, adjusted_rand_score, normalized_mutual_info_score\n",
    "from sklearn.cluster import KMeans, AgglomerativeClustering, DBSCAN\n",
    "from sklearn.preprocessing import StandardScaler\n",
    "import pandas as pd\n",
    "\n",
    "# Завантажуємо та готуємо дані\n",
    "data = pd.read_csv(\"Online-eCommerce.csv\")\n",
    "data = data.dropna()\n",
    "\n",
    "# Перетворюємо колонку Order_Date у формат datetime\n",
    "data['Order_Date'] = pd.to_datetime(data['Order_Date'], errors='coerce')\n",
    "data = data.dropna(subset=['Order_Date'])\n",
    "\n",
    "# Групуємо дані за клієнтами та обчислюємо ключові показники\n",
    "customer_data = data.groupby('Customer_Name').agg({\n",
    "    'Total_Sales': 'sum',\n",
    "    'Quantity': 'sum',\n",
    "    'Cost': 'mean',\n",
    "    'Order_Date': lambda x: (pd.Timestamp.now() - x.max()).days\n",
    "}).reset_index()\n",
    "\n",
    "# Перейменовуємо колонки для зручності\n",
    "customer_data.columns = [\n",
    "    'Customer_Name', 'Total_Spent', 'Total_Quantity', 'Avg_Cost', 'Days_Since_Last_Purchase'\n",
    "]\n",
    "\n",
    "# Вибираємо числові ознаки\n",
    "X = customer_data[['Total_Spent', 'Total_Quantity', 'Avg_Cost', 'Days_Since_Last_Purchase']]\n",
    "\n",
    "# Масштабуємо дані\n",
    "scaler = StandardScaler()\n",
    "X_scaled = scaler.fit_transform(X)\n",
    "\n",
    "# Виконуємо кластеризацію K-means\n",
    "kmeans = KMeans(n_clusters=2, random_state=42)\n",
    "kmeans_labels = kmeans.fit_predict(X_scaled)\n",
    "\n",
    "# Виконуємо агломеративну кластеризацію\n",
    "agg = AgglomerativeClustering(n_clusters=2)\n",
    "agg_labels = agg.fit_predict(X_scaled)\n",
    "\n",
    "# Виконуємо кластеризацію DBSCAN\n",
    "dbscan = DBSCAN(eps=1.5, min_samples=5)\n",
    "dbscan_labels = dbscan.fit_predict(X_scaled)\n",
    "\n",
    "# Обчислюємо метрики стійкості\n",
    "silhouette_kmeans = silhouette_score(X_scaled, kmeans_labels)\n",
    "ari_kmeans = adjusted_rand_score(kmeans_labels, kmeans_labels)  # Порівняння з собою\n",
    "nmi_kmeans = normalized_mutual_info_score(kmeans_labels, kmeans_labels)\n",
    "\n",
    "# Обчислюємо метрики для Agglomerative Clustering\n",
    "silhouette_agg = silhouette_score(X_scaled, agg_labels)\n",
    "ari_agg = adjusted_rand_score(agg_labels, agg_labels)  # Порівняння з собою\n",
    "nmi_agg = normalized_mutual_info_score(agg_labels, agg_labels)\n",
    "\n",
    "# Обчислюємо метрики для DBSCAN\n",
    "silhouette_dbscan = silhouette_score(X_scaled, dbscan_labels)\n",
    "ari_dbscan = adjusted_rand_score(dbscan_labels, dbscan_labels)  # Порівняння з собою\n",
    "nmi_dbscan = normalized_mutual_info_score(dbscan_labels, dbscan_labels)\n",
    "\n",
    "# Повертаємо результати для всіх алгоритмів\n",
    "(silhouette_kmeans, ari_kmeans, nmi_kmeans,\n",
    " silhouette_agg, ari_agg, nmi_agg,\n",
    " silhouette_dbscan, ari_dbscan, nmi_dbscan)"
   ]
  }
 ],
 "metadata": {
  "kernelspec": {
   "display_name": "Python 3 (ipykernel)",
   "language": "python",
   "name": "python3"
  }
 },
 "nbformat": 4,
 "nbformat_minor": 2
}
