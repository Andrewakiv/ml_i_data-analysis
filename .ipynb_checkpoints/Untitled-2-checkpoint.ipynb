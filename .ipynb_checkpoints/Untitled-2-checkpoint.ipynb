{
 "cells": [
  {
   "cell_type": "code",
   "execution_count": 3,
   "metadata": {},
   "outputs": [
    {
     "name": "stdout",
     "output_type": "stream",
     "text": [
      "123\n"
     ]
    }
   ],
   "source": [
    "print(123)"
   ]
  },
  {
   "cell_type": "code",
   "execution_count": 2,
   "metadata": {},
   "outputs": [
    {
     "name": "stdout",
     "output_type": "stream",
     "text": [
      "     Invoice ID Branch       City Customer type  Gender  \\\n",
      "0   750-67-8428      A     Yangon        Member  Female   \n",
      "1   226-31-3081      C  Naypyitaw        Normal  Female   \n",
      "2   631-41-3108      A     Yangon        Normal    Male   \n",
      "3   123-19-1176      A     Yangon        Member    Male   \n",
      "4   373-73-7910      A     Yangon        Normal    Male   \n",
      "5   699-14-3026      C  Naypyitaw        Normal    Male   \n",
      "6   355-53-5943      A     Yangon        Member  Female   \n",
      "7   315-22-5665      C  Naypyitaw        Normal  Female   \n",
      "8   665-32-9167      A     Yangon        Member  Female   \n",
      "9   692-92-5582      B   Mandalay        Member  Female   \n",
      "10  351-62-0822      B   Mandalay        Member  Female   \n",
      "11  529-56-3974      B   Mandalay        Member    Male   \n",
      "12  365-64-0515      A     Yangon        Normal  Female   \n",
      "13  252-56-2699      A     Yangon        Normal    Male   \n",
      "14  829-34-3910      A     Yangon        Normal  Female   \n",
      "15  299-46-1805      B   Mandalay        Member  Female   \n",
      "16  656-95-9349      A     Yangon        Member  Female   \n",
      "17  765-26-6951      A     Yangon        Normal    Male   \n",
      "18  329-62-1586      A     Yangon        Normal    Male   \n",
      "19  319-50-3348      B   Mandalay        Normal  Female   \n",
      "\n",
      "              Product line  Unit price  Quantity   Tax 5%     Total  \\\n",
      "0        Health and beauty       74.69         7  26.1415  548.9715   \n",
      "1   Electronic accessories       15.28         5   3.8200   80.2200   \n",
      "2       Home and lifestyle       46.33         7  16.2155  340.5255   \n",
      "3        Health and beauty       58.22         8  23.2880  489.0480   \n",
      "4        Sports and travel       86.31         7  30.2085  634.3785   \n",
      "5   Electronic accessories       85.39         7  29.8865  627.6165   \n",
      "6   Electronic accessories       68.84         6  20.6520  433.6920   \n",
      "7       Home and lifestyle       73.56        10  36.7800  772.3800   \n",
      "8        Health and beauty       36.26         2   3.6260   76.1460   \n",
      "9       Food and beverages       54.84         3   8.2260  172.7460   \n",
      "10     Fashion accessories       14.48         4   2.8960   60.8160   \n",
      "11  Electronic accessories       25.51         4   5.1020  107.1420   \n",
      "12  Electronic accessories       46.95         5  11.7375  246.4875   \n",
      "13      Food and beverages       43.19        10  21.5950  453.4950   \n",
      "14       Health and beauty       71.38        10  35.6900  749.4900   \n",
      "15       Sports and travel       93.72         6  28.1160  590.4360   \n",
      "16       Health and beauty       68.93         7  24.1255  506.6355   \n",
      "17       Sports and travel       72.61         6  21.7830  457.4430   \n",
      "18      Food and beverages       54.67         3   8.2005  172.2105   \n",
      "19      Home and lifestyle       40.30         2   4.0300   84.6300   \n",
      "\n",
      "         Date   Time      Payment    cogs  gross margin percentage  \\\n",
      "0    1/5/2019  13:08      Ewallet  522.83                 4.761905   \n",
      "1    3/8/2019  10:29         Cash   76.40                 4.761905   \n",
      "2    3/3/2019  13:23  Credit card  324.31                 4.761905   \n",
      "3   1/27/2019  20:33      Ewallet  465.76                 4.761905   \n",
      "4    2/8/2019  10:37      Ewallet  604.17                 4.761905   \n",
      "5   3/25/2019  18:30      Ewallet  597.73                 4.761905   \n",
      "6   2/25/2019  14:36      Ewallet  413.04                 4.761905   \n",
      "7   2/24/2019  11:38      Ewallet  735.60                 4.761905   \n",
      "8   1/10/2019  17:15  Credit card   72.52                 4.761905   \n",
      "9   2/20/2019  13:27  Credit card  164.52                 4.761905   \n",
      "10   2/6/2019  18:07      Ewallet   57.92                 4.761905   \n",
      "11   3/9/2019  17:03         Cash  102.04                 4.761905   \n",
      "12  2/12/2019  10:25      Ewallet  234.75                 4.761905   \n",
      "13   2/7/2019  16:48      Ewallet  431.90                 4.761905   \n",
      "14  3/29/2019  19:21         Cash  713.80                 4.761905   \n",
      "15  1/15/2019  16:19         Cash  562.32                 4.761905   \n",
      "16  3/11/2019  11:03  Credit card  482.51                 4.761905   \n",
      "17   1/1/2019  10:39  Credit card  435.66                 4.761905   \n",
      "18  1/21/2019  18:00  Credit card  164.01                 4.761905   \n",
      "19  3/11/2019  15:30      Ewallet   80.60                 4.761905   \n",
      "\n",
      "    gross income  Rating  \n",
      "0        26.1415     9.1  \n",
      "1         3.8200     9.6  \n",
      "2        16.2155     7.4  \n",
      "3        23.2880     8.4  \n",
      "4        30.2085     5.3  \n",
      "5        29.8865     4.1  \n",
      "6        20.6520     5.8  \n",
      "7        36.7800     8.0  \n",
      "8         3.6260     7.2  \n",
      "9         8.2260     5.9  \n",
      "10        2.8960     4.5  \n",
      "11        5.1020     6.8  \n",
      "12       11.7375     7.1  \n",
      "13       21.5950     8.2  \n",
      "14       35.6900     5.7  \n",
      "15       28.1160     4.5  \n",
      "16       24.1255     4.6  \n",
      "17       21.7830     6.9  \n",
      "18        8.2005     8.6  \n",
      "19        4.0300     4.4  \n"
     ]
    }
   ],
   "source": [
    "import pandas as pd\n",
    "\n",
    "data = pd.read_csv('data.csv')\n",
    "\n",
    "print(data.head(20))"
   ]
  }
 ],
 "metadata": {
  "kernelspec": {
   "display_name": "Python 3 (ipykernel)",
   "language": "python",
   "name": "python3"
  },
  "language_info": {
   "codemirror_mode": {
    "name": "ipython",
    "version": 3
   },
   "file_extension": ".py",
   "mimetype": "text/x-python",
   "name": "python",
   "nbconvert_exporter": "python",
   "pygments_lexer": "ipython3",
   "version": "3.11.4"
  }
 },
 "nbformat": 4,
 "nbformat_minor": 2
}
